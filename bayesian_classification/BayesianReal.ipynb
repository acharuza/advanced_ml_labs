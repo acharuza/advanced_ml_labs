{
 "cells": [
  {
   "cell_type": "markdown",
   "metadata": {},
   "source": [
    "# Comparison of LDA, QDA and NB on real data"
   ]
  },
  {
   "cell_type": "code",
   "execution_count": 59,
   "metadata": {},
   "outputs": [],
   "source": [
    "from implementation.LDA import LDA\n",
    "from implementation.QDA import QDA\n",
    "from implementation.NB import NB\n",
    "import seaborn as sns\n",
    "from sklearn.model_selection import train_test_split\n",
    "from sklearn.metrics import accuracy_score\n",
    "import pandas as pd\n",
    "import numpy as np\n",
    "from scipy.io import arff"
   ]
  },
  {
   "cell_type": "markdown",
   "metadata": {},
   "source": [
    "## Pistachio dataset\n",
    "\n",
    "Source: https://www.kaggle.com/datasets/amirhosseinmirzaie/pistachio-types-detection?resource=download"
   ]
  },
  {
   "cell_type": "code",
   "execution_count": null,
   "metadata": {},
   "outputs": [
    {
     "name": "stdout",
     "output_type": "stream",
     "text": [
      "<class 'pandas.core.frame.DataFrame'>\n",
      "RangeIndex: 1718 entries, 0 to 1717\n",
      "Data columns (total 17 columns):\n",
      " #   Column         Non-Null Count  Dtype  \n",
      "---  ------         --------------  -----  \n",
      " 0   AREA           1718 non-null   int64  \n",
      " 1   PERIMETER      1718 non-null   float64\n",
      " 2   MAJOR_AXIS     1718 non-null   float64\n",
      " 3   MINOR_AXIS     1718 non-null   float64\n",
      " 4   ECCENTRICITY   1718 non-null   float64\n",
      " 5   EQDIASQ        1718 non-null   float64\n",
      " 6   SOLIDITY       1718 non-null   float64\n",
      " 7   CONVEX_AREA    1718 non-null   int64  \n",
      " 8   EXTENT         1718 non-null   float64\n",
      " 9   ASPECT_RATIO   1718 non-null   float64\n",
      " 10  ROUNDNESS      1718 non-null   float64\n",
      " 11  COMPACTNESS    1718 non-null   float64\n",
      " 12  SHAPEFACTOR_1  1718 non-null   float64\n",
      " 13  SHAPEFACTOR_2  1718 non-null   float64\n",
      " 14  SHAPEFACTOR_3  1718 non-null   float64\n",
      " 15  SHAPEFACTOR_4  1718 non-null   float64\n",
      " 16  Class          1718 non-null   object \n",
      "dtypes: float64(14), int64(2), object(1)\n",
      "memory usage: 228.3+ KB\n"
     ]
    }
   ],
   "source": [
    "pistachio = pd.read_csv('data/pistachio.csv')\n",
    "# no nan entries\n",
    "pistachio.info()"
   ]
  },
  {
   "cell_type": "code",
   "execution_count": 11,
   "metadata": {},
   "outputs": [
    {
     "data": {
      "text/plain": [
       "AREA             0\n",
       "PERIMETER        0\n",
       "MAJOR_AXIS       0\n",
       "MINOR_AXIS       0\n",
       "ECCENTRICITY     0\n",
       "EQDIASQ          0\n",
       "SOLIDITY         0\n",
       "CONVEX_AREA      0\n",
       "EXTENT           0\n",
       "ASPECT_RATIO     0\n",
       "ROUNDNESS        0\n",
       "COMPACTNESS      0\n",
       "SHAPEFACTOR_1    0\n",
       "SHAPEFACTOR_2    0\n",
       "SHAPEFACTOR_3    0\n",
       "SHAPEFACTOR_4    0\n",
       "Class            0\n",
       "dtype: int64"
      ]
     },
     "execution_count": 11,
     "metadata": {},
     "output_type": "execute_result"
    }
   ],
   "source": [
    "pistachio.isnull().sum()"
   ]
  },
  {
   "cell_type": "code",
   "execution_count": 3,
   "metadata": {},
   "outputs": [
    {
     "data": {
      "text/plain": [
       "array(['Kirmizi_Pistachio', 'Siit_Pistachio'], dtype=object)"
      ]
     },
     "execution_count": 3,
     "metadata": {},
     "output_type": "execute_result"
    }
   ],
   "source": [
    "pistachio['Class'].unique()"
   ]
  },
  {
   "cell_type": "code",
   "execution_count": null,
   "metadata": {},
   "outputs": [],
   "source": [
    "X_pistachio = pistachio.drop('Class', axis=1).to_numpy()\n",
    "y_pistachio = np.where(pistachio['Class'] == 'Kirmizi_Pistachio', 1, 0)"
   ]
  },
  {
   "cell_type": "code",
   "execution_count": null,
   "metadata": {},
   "outputs": [],
   "source": [
    "results_pistachio = {'LDA': [], 'QDA': [], 'NB': []}\n",
    "\n",
    "for _ in range(10000):\n",
    "    X_train, X_test, y_train, y_test = train_test_split(X_pistachio, y_pistachio, test_size=0.2)\n",
    "\n",
    "    lda = LDA()\n",
    "    qda = QDA()\n",
    "    nb = NB()\n",
    "\n",
    "    lda.fit(X_train, y_train)\n",
    "    qda.fit(X_train, y_train)\n",
    "    nb.fit(X_train, y_train)\n",
    "\n",
    "    y_pred_lda = lda.predict(X_test)\n",
    "    y_pred_qda = qda.predict(X_test)\n",
    "    y_pred_nb = nb.predict(X_test)\n",
    "\n",
    "    results_pistachio['LDA'].append(accuracy_score(y_test, y_pred_lda))\n",
    "    results_pistachio['QDA'].append(accuracy_score(y_test, y_pred_qda))\n",
    "    results_pistachio['NB'].append(accuracy_score(y_test, y_pred_nb))"
   ]
  },
  {
   "cell_type": "code",
   "execution_count": 7,
   "metadata": {},
   "outputs": [
    {
     "data": {
      "text/plain": [
       "Text(0.5, 1.0, 'Comparison of LDA, QDA and NB on Pistachio dataset')"
      ]
     },
     "execution_count": 7,
     "metadata": {},
     "output_type": "execute_result"
    },
    {
     "data": {
      "image/png": "[encoded data removed]",
      "text/plain": [
       "<Figure size 640x480 with 1 Axes>"
      ]
     },
     "metadata": {},
     "output_type": "display_data"
    }
   ],
   "source": [
    "data_pistachio = []\n",
    "for method in results_pistachio:\n",
    "    data_pistachio.extend([(method, acc) for acc in results_pistachio[method]])\n",
    "\n",
    "df_pistachio = pd.DataFrame(data_pistachio, columns=['Method', 'Accuracy'])\n",
    "\n",
    "sns.boxplot(x='Method', y='Accuracy', data=df_pistachio, showfliers=False).set_title('Comparison of LDA, QDA and NB on Pistachio dataset')"
   ]
  },
  {
   "cell_type": "markdown",
   "metadata": {},
   "source": [
    "## Apple Quality dataset\n",
    "\n",
    "Source: https://www.kaggle.com/datasets/nelgiriyewithana/apple-quality"
   ]
  },
  {
   "cell_type": "code",
   "execution_count": 74,
   "metadata": {},
   "outputs": [
    {
     "name": "stdout",
     "output_type": "stream",
     "text": [
      "<class 'pandas.core.frame.DataFrame'>\n",
      "RangeIndex: 4001 entries, 0 to 4000\n",
      "Data columns (total 9 columns):\n",
      " #   Column       Non-Null Count  Dtype  \n",
      "---  ------       --------------  -----  \n",
      " 0   A_id         4000 non-null   float64\n",
      " 1   Size         4000 non-null   float64\n",
      " 2   Weight       4000 non-null   float64\n",
      " 3   Sweetness    4000 non-null   float64\n",
      " 4   Crunchiness  4000 non-null   float64\n",
      " 5   Juiciness    4000 non-null   float64\n",
      " 6   Ripeness     4000 non-null   float64\n",
      " 7   Acidity      4001 non-null   object \n",
      " 8   Quality      4000 non-null   object \n",
      "dtypes: float64(7), object(2)\n",
      "memory usage: 281.4+ KB\n"
     ]
    }
   ],
   "source": [
    "apple_quality = pd.read_csv('data/apple_quality.csv')\n",
    "apple_quality.info()"
   ]
  },
  {
   "cell_type": "code",
   "execution_count": 75,
   "metadata": {},
   "outputs": [
    {
     "data": {
      "text/plain": [
       "A_id           1\n",
       "Size           1\n",
       "Weight         1\n",
       "Sweetness      1\n",
       "Crunchiness    1\n",
       "Juiciness      1\n",
       "Ripeness       1\n",
       "Acidity        0\n",
       "Quality        1\n",
       "dtype: int64"
      ]
     },
     "execution_count": 75,
     "metadata": {},
     "output_type": "execute_result"
    }
   ],
   "source": [
    "apple_quality.isnull().sum()"
   ]
  },
  {
   "cell_type": "code",
   "execution_count": 76,
   "metadata": {},
   "outputs": [],
   "source": [
    "apple_quality = apple_quality.dropna()\n",
    "apple_quality = apple_quality.drop('A_id', axis=1)"
   ]
  },
  {
   "cell_type": "code",
   "execution_count": 77,
   "metadata": {},
   "outputs": [
    {
     "data": {
      "text/plain": [
       "array(['good', 'bad'], dtype=object)"
      ]
     },
     "execution_count": 77,
     "metadata": {},
     "output_type": "execute_result"
    }
   ],
   "source": [
    "apple_quality['Quality'].unique()"
   ]
  },
  {
   "cell_type": "code",
   "execution_count": 78,
   "metadata": {},
   "outputs": [
    {
     "data": {
      "text/plain": [
       "0    -0.491590483\n",
       "1    -0.722809367\n",
       "2     2.621636473\n",
       "3     0.790723217\n",
       "4     0.501984036\n",
       "Name: Acidity, dtype: object"
      ]
     },
     "execution_count": 78,
     "metadata": {},
     "output_type": "execute_result"
    }
   ],
   "source": [
    "apple_quality['Acidity'].head()"
   ]
  },
  {
   "cell_type": "code",
   "execution_count": 79,
   "metadata": {},
   "outputs": [],
   "source": [
    "apple_quality['Acidity'] = apple_quality['Acidity'].astype(float)"
   ]
  },
  {
   "cell_type": "code",
   "execution_count": 80,
   "metadata": {},
   "outputs": [
    {
     "name": "stdout",
     "output_type": "stream",
     "text": [
      "<class 'pandas.core.series.Series'>\n",
      "Index: 4000 entries, 0 to 3999\n",
      "Series name: Acidity\n",
      "Non-Null Count  Dtype  \n",
      "--------------  -----  \n",
      "4000 non-null   float64\n",
      "dtypes: float64(1)\n",
      "memory usage: 62.5 KB\n"
     ]
    }
   ],
   "source": [
    "apple_quality['Acidity'].info()"
   ]
  },
  {
   "cell_type": "code",
   "execution_count": 81,
   "metadata": {},
   "outputs": [],
   "source": [
    "X_apple = apple_quality.drop('Quality', axis=1).to_numpy()\n",
    "y_apple = np.where(apple_quality['Quality'] == 'good', 1, 0)"
   ]
  },
  {
   "cell_type": "code",
   "execution_count": 82,
   "metadata": {},
   "outputs": [],
   "source": [
    "results_apple = {'LDA': [], 'QDA': [], 'NB': []}\n",
    "\n",
    "for _ in range(10000):\n",
    "    X_train, X_test, y_train, y_test = train_test_split(X_apple, y_apple, test_size=0.2)\n",
    "\n",
    "    lda = LDA()\n",
    "    qda = QDA()\n",
    "    nb = NB()\n",
    "\n",
    "    lda.fit(X_train, y_train)\n",
    "    qda.fit(X_train, y_train)\n",
    "    nb.fit(X_train, y_train)\n",
    "\n",
    "    y_pred_lda = lda.predict(X_test)\n",
    "    y_pred_qda = qda.predict(X_test)\n",
    "    y_pred_nb = nb.predict(X_test)\n",
    "\n",
    "    results_apple['LDA'].append(accuracy_score(y_test, y_pred_lda))\n",
    "    results_apple['QDA'].append(accuracy_score(y_test, y_pred_qda))\n",
    "    results_apple['NB'].append(accuracy_score(y_test, y_pred_nb))"
   ]
  },
  {
   "cell_type": "code",
   "execution_count": 83,
   "metadata": {},
   "outputs": [
    {
     "data": {
      "text/plain": [
       "Text(0.5, 1.0, 'Comparison of LDA, QDA and NB on Apple Quality dataset')"
      ]
     },
     "execution_count": 83,
     "metadata": {},
     "output_type": "execute_result"
    },
    {
     "data": {
      "image/png": "[encoded data removed]",
      "text/plain": [
       "<Figure size 640x480 with 1 Axes>"
      ]
     },
     "metadata": {},
     "output_type": "display_data"
    }
   ],
   "source": [
    "data_apple = []\n",
    "for method in results_apple:\n",
    "    data_apple.extend([(method, acc) for acc in results_apple[method]])\n",
    "\n",
    "df_apple = pd.DataFrame(data_apple, columns=['Method', 'Accuracy'])\n",
    "\n",
    "sns.boxplot(x='Method', y='Accuracy', data=df_apple, showfliers=False).set_title('Comparison of LDA, QDA and NB on Apple Quality dataset')"
   ]
  },
  {
   "cell_type": "markdown",
   "metadata": {},
   "source": [
    "## Rice dataset\n",
    "\n",
    "Source: https://archive.ics.uci.edu/dataset/545/rice+cammeo+and+osmancik"
   ]
  },
  {
   "cell_type": "code",
   "execution_count": 60,
   "metadata": {},
   "outputs": [
    {
     "name": "stdout",
     "output_type": "stream",
     "text": [
      "<class 'pandas.core.frame.DataFrame'>\n",
      "RangeIndex: 3810 entries, 0 to 3809\n",
      "Data columns (total 8 columns):\n",
      " #   Column             Non-Null Count  Dtype  \n",
      "---  ------             --------------  -----  \n",
      " 0   Area               3810 non-null   float64\n",
      " 1   Perimeter          3810 non-null   float64\n",
      " 2   Major_Axis_Length  3810 non-null   float64\n",
      " 3   Minor_Axis_Length  3810 non-null   float64\n",
      " 4   Eccentricity       3810 non-null   float64\n",
      " 5   Convex_Area        3810 non-null   float64\n",
      " 6   Extent             3810 non-null   float64\n",
      " 7   Class              3810 non-null   object \n",
      "dtypes: float64(7), object(1)\n",
      "memory usage: 238.3+ KB\n"
     ]
    }
   ],
   "source": [
    "data, meta = arff.loadarff('data/Rice_Cammeo_Osmancik.arff')\n",
    "rice = pd.DataFrame(data)\n",
    "rice.info()"
   ]
  },
  {
   "cell_type": "code",
   "execution_count": 63,
   "metadata": {},
   "outputs": [
    {
     "data": {
      "text/plain": [
       "Area                 0\n",
       "Perimeter            0\n",
       "Major_Axis_Length    0\n",
       "Minor_Axis_Length    0\n",
       "Eccentricity         0\n",
       "Convex_Area          0\n",
       "Extent               0\n",
       "Class                0\n",
       "dtype: int64"
      ]
     },
     "execution_count": 63,
     "metadata": {},
     "output_type": "execute_result"
    }
   ],
   "source": [
    "rice.isnull().sum()"
   ]
  },
  {
   "cell_type": "code",
   "execution_count": 64,
   "metadata": {},
   "outputs": [
    {
     "data": {
      "text/plain": [
       "array([b'Cammeo', b'Osmancik'], dtype=object)"
      ]
     },
     "execution_count": 64,
     "metadata": {},
     "output_type": "execute_result"
    }
   ],
   "source": [
    "rice['Class'].unique()"
   ]
  },
  {
   "cell_type": "code",
   "execution_count": 68,
   "metadata": {},
   "outputs": [],
   "source": [
    "X_rice = rice.drop('Class', axis=1).to_numpy()\n",
    "y_rice = np.where(rice['Class'] == b'Cammeo', 1, 0)"
   ]
  },
  {
   "cell_type": "code",
   "execution_count": 69,
   "metadata": {},
   "outputs": [],
   "source": [
    "results_rice = {'LDA': [], 'QDA': [], 'NB': []}\n",
    "\n",
    "for _ in range(10000):\n",
    "    X_train, X_test, y_train, y_test = train_test_split(X_rice, y_rice, test_size=0.2)\n",
    "\n",
    "    lda = LDA()\n",
    "    qda = QDA()\n",
    "    nb = NB()\n",
    "\n",
    "    lda.fit(X_train, y_train)\n",
    "    qda.fit(X_train, y_train)\n",
    "    nb.fit(X_train, y_train)\n",
    "\n",
    "    y_pred_lda = lda.predict(X_test)\n",
    "    y_pred_qda = qda.predict(X_test)\n",
    "    y_pred_nb = nb.predict(X_test)\n",
    "\n",
    "    results_rice['LDA'].append(accuracy_score(y_test, y_pred_lda))\n",
    "    results_rice['QDA'].append(accuracy_score(y_test, y_pred_qda))\n",
    "    results_rice['NB'].append(accuracy_score(y_test, y_pred_nb))"
   ]
  },
  {
   "cell_type": "code",
   "execution_count": 70,
   "metadata": {},
   "outputs": [
    {
     "data": {
      "text/plain": [
       "Text(0.5, 1.0, 'Comparison of LDA, QDA and NB on Rice dataset')"
      ]
     },
     "execution_count": 70,
     "metadata": {},
     "output_type": "execute_result"
    },
    {
     "data": {
      "image/png": "[encoded data removed]",
      "text/plain": [
       "<Figure size 640x480 with 1 Axes>"
      ]
     },
     "metadata": {},
     "output_type": "display_data"
    }
   ],
   "source": [
    "data_rice = []\n",
    "for method in results_rice:\n",
    "    data_rice.extend([(method, acc) for acc in results_rice[method]])\n",
    "\n",
    "df_rice = pd.DataFrame(data_rice, columns=['Method', 'Accuracy'])\n",
    "\n",
    "sns.boxplot(x='Method', y='Accuracy', data=df_rice, showfliers=False).set_title('Comparison of LDA, QDA and NB on Rice dataset')"
   ]
  }
 ],
 "metadata": {
  "kernelspec": {
   "display_name": "Python (venv)",
   "language": "python",
   "name": "venv"
  },
  "language_info": {
   "codemirror_mode": {
    "name": "ipython",
    "version": 3
   },
   "file_extension": ".py",
   "mimetype": "text/x-python",
   "name": "python",
   "nbconvert_exporter": "python",
   "pygments_lexer": "ipython3",
   "version": "3.12.5"
  }
 },
 "nbformat": 4,
 "nbformat_minor": 2
}
